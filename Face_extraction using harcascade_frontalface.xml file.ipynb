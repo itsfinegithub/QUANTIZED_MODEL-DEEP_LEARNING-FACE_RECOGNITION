{
 "cells": [
  {
   "cell_type": "code",
   "execution_count": 1,
   "id": "777e59b8",
   "metadata": {},
   "outputs": [],
   "source": [
    "import cv2\n",
    "import os\n",
    "import glob"
   ]
  },
  {
   "cell_type": "code",
   "execution_count": 3,
   "id": "5b39f9de",
   "metadata": {},
   "outputs": [],
   "source": [
    "count=0\n",
    "for i in glob.glob(\"/home/ubuntu/Downloads/train data/*/*\"):\n",
    "    folder=i.split(\"/\")[-2]\n",
    "    name=i.split(\"/\")[-1]\n",
    "    \n",
    "\n",
    "    img = cv2.imread(i)\n",
    "    gray_img = cv2.cvtColor(img,cv2.COLOR_BGR2GRAY)\n",
    "    haar_cascad = cv2.CascadeClassifier(\"/home/ubuntu/Downloads/haarcascade_frontalface_default.xml\")\n",
    "    \n",
    "    faces_rect = haar_cascad.detectMultiScale(gray_img,1.3,3)\n",
    "#     print(faces_rect)\n",
    "    for (x,y,w,h) in faces_rect:\n",
    "        cv2.rectangle(img,(x,y),(x+w,y+h),(0,255,0),2)\n",
    "    \n",
    "\n",
    "    roi_frame = img[y:y+h,x:x+h]\n",
    "    \n",
    "    if folder in i:\n",
    "        cv2.imwrite(f\"/home/ubuntu/Desktop/train_data_facesagain/{folder}/{name}%d0.jpg\"%count,roi_frame)\n",
    "        count+=1"
   ]
  }
 ],
 "metadata": {
  "kernelspec": {
   "display_name": "Python 3.10.6 64-bit",
   "language": "python",
   "name": "python3"
  },
  "language_info": {
   "codemirror_mode": {
    "name": "ipython",
    "version": 3
   },
   "file_extension": ".py",
   "mimetype": "text/x-python",
   "name": "python",
   "nbconvert_exporter": "python",
   "pygments_lexer": "ipython3",
   "version": "3.10.6"
  },
  "vscode": {
   "interpreter": {
    "hash": "916dbcbb3f70747c44a77c7bcd40155683ae19c65e1c03b4aa3499c5328201f1"
   }
  }
 },
 "nbformat": 4,
 "nbformat_minor": 5
}
